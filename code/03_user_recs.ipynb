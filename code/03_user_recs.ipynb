{
 "cells": [
  {
   "cell_type": "code",
   "execution_count": 1,
   "id": "e995c4e1-f1ca-4f0c-8b98-5701a1e15406",
   "metadata": {},
   "outputs": [],
   "source": [
    "import pandas as pd\n",
    "import random"
   ]
  },
  {
   "cell_type": "markdown",
   "id": "d636594f-4a72-4f3a-b5c5-0b06cb35f671",
   "metadata": {},
   "source": [
    "---"
   ]
  },
  {
   "cell_type": "code",
   "execution_count": 2,
   "id": "fb047ce8-8c6a-4cb5-b448-0f8cb911c57c",
   "metadata": {},
   "outputs": [],
   "source": [
    "# Load Wine Products DF:\n",
    "df = pd.read_csv('../data/df.csv')"
   ]
  },
  {
   "cell_type": "markdown",
   "id": "8a20ed43-e813-4ee0-9d3e-6895d4113323",
   "metadata": {},
   "source": [
    "## Creating User Preferences DataFrame\n",
    "\n",
    "Ideally this data would come from Wine.com internally. However, since this data is not publically avalable, a fictitious user preferences dataframe has been created showing user-driven activity and associated ratings per product."
   ]
  },
  {
   "cell_type": "code",
   "execution_count": 3,
   "id": "25945889-bd7f-4c7f-bb71-9925bacfb4a8",
   "metadata": {},
   "outputs": [],
   "source": [
    "# Function to create df of user interactions\n",
    "def create_user_interaction_df(df):\n",
    "    \n",
    "    # Create a list of unique user_ids (215 unique users)\n",
    "    unique_users = [str(random.randint(100000, 999999)) for _ in range(215)]\n",
    "\n",
    "    # Create a list of product_ids from the 'product_id' column in the wine DataFrame df\n",
    "    product_ids = df['product_id'].tolist()\n",
    "\n",
    "    # Create a list of event types with specified probabilities (total 850)\n",
    "    event_types = [\"view\"] * 400 + [\"like\"] * 200 + [\"rate\"] * 100 + [\"comment\"] * 50 + [\"follow\"] * 50 + [\"bookmark\"] * 50\n",
    "    random.shuffle(event_types)\n",
    "\n",
    "    # Map event types to event strengths\n",
    "    event_strength_mapping = {\n",
    "        'view': 1.0,\n",
    "        'like': 1.5,\n",
    "        'rate': 2.0,\n",
    "        'comment': 3.0,\n",
    "        'follow': 4.0,\n",
    "        'bookmark': 4.5\n",
    "    }\n",
    "    event_strengths = [event_strength_mapping[event_type] for event_type in event_types]\n",
    "\n",
    "    # Create the DataFrame\n",
    "    data = {\n",
    "        \"user_id\": random.choices(unique_users, k=850),\n",
    "        \"event_type\": event_types,\n",
    "        \"product_id\": random.choices(product_ids, k=850),\n",
    "        \"event_strength\": event_strengths\n",
    "    }\n",
    "\n",
    "    df_user_interactions = pd.DataFrame(data)\n",
    "    return df_user_interactions"
   ]
  },
  {
   "cell_type": "markdown",
   "id": "d1a9918e-dc4f-49e2-87b9-bb4afb4c3dd2",
   "metadata": {},
   "source": [
    "Explain: users can interact with Wine.com in many different ways. Explain types, explain subjective rating of 1.0 to 4.5 for strength. "
   ]
  },
  {
   "cell_type": "code",
   "execution_count": 4,
   "id": "699b5e96-597c-4e87-ac1a-1e94a6303fee",
   "metadata": {},
   "outputs": [],
   "source": [
    "# Create user interactions DataFrame\n",
    "df_user_interactions = create_user_interaction_df(df)"
   ]
  },
  {
   "cell_type": "code",
   "execution_count": 5,
   "id": "5a530098-a558-4267-b84e-259591696f7c",
   "metadata": {},
   "outputs": [
    {
     "data": {
      "text/html": [
       "<div>\n",
       "<style scoped>\n",
       "    .dataframe tbody tr th:only-of-type {\n",
       "        vertical-align: middle;\n",
       "    }\n",
       "\n",
       "    .dataframe tbody tr th {\n",
       "        vertical-align: top;\n",
       "    }\n",
       "\n",
       "    .dataframe thead th {\n",
       "        text-align: right;\n",
       "    }\n",
       "</style>\n",
       "<table border=\"1\" class=\"dataframe\">\n",
       "  <thead>\n",
       "    <tr style=\"text-align: right;\">\n",
       "      <th></th>\n",
       "      <th>user_id</th>\n",
       "      <th>event_type</th>\n",
       "      <th>product_id</th>\n",
       "      <th>event_strength</th>\n",
       "    </tr>\n",
       "  </thead>\n",
       "  <tbody>\n",
       "    <tr>\n",
       "      <th>0</th>\n",
       "      <td>509102</td>\n",
       "      <td>view</td>\n",
       "      <td>1298793</td>\n",
       "      <td>1.0</td>\n",
       "    </tr>\n",
       "    <tr>\n",
       "      <th>1</th>\n",
       "      <td>344116</td>\n",
       "      <td>comment</td>\n",
       "      <td>1340075</td>\n",
       "      <td>3.0</td>\n",
       "    </tr>\n",
       "    <tr>\n",
       "      <th>2</th>\n",
       "      <td>554077</td>\n",
       "      <td>rate</td>\n",
       "      <td>1498938</td>\n",
       "      <td>2.0</td>\n",
       "    </tr>\n",
       "    <tr>\n",
       "      <th>3</th>\n",
       "      <td>375045</td>\n",
       "      <td>like</td>\n",
       "      <td>385384</td>\n",
       "      <td>1.5</td>\n",
       "    </tr>\n",
       "    <tr>\n",
       "      <th>4</th>\n",
       "      <td>661905</td>\n",
       "      <td>like</td>\n",
       "      <td>1133016</td>\n",
       "      <td>1.5</td>\n",
       "    </tr>\n",
       "  </tbody>\n",
       "</table>\n",
       "</div>"
      ],
      "text/plain": [
       "  user_id event_type  product_id  event_strength\n",
       "0  509102       view     1298793             1.0\n",
       "1  344116    comment     1340075             3.0\n",
       "2  554077       rate     1498938             2.0\n",
       "3  375045       like      385384             1.5\n",
       "4  661905       like     1133016             1.5"
      ]
     },
     "execution_count": 5,
     "metadata": {},
     "output_type": "execute_result"
    }
   ],
   "source": [
    "# Explore the DF\n",
    "df_user_interactions.head()"
   ]
  },
  {
   "cell_type": "code",
   "execution_count": 6,
   "id": "a673c51b-e64f-485a-b3ec-fa7ef1986134",
   "metadata": {},
   "outputs": [
    {
     "name": "stdout",
     "output_type": "stream",
     "text": [
      "<class 'pandas.core.frame.DataFrame'>\n",
      "RangeIndex: 850 entries, 0 to 849\n",
      "Data columns (total 4 columns):\n",
      " #   Column          Non-Null Count  Dtype  \n",
      "---  ------          --------------  -----  \n",
      " 0   user_id         850 non-null    object \n",
      " 1   event_type      850 non-null    object \n",
      " 2   product_id      850 non-null    int64  \n",
      " 3   event_strength  850 non-null    float64\n",
      "dtypes: float64(1), int64(1), object(2)\n",
      "memory usage: 26.7+ KB\n"
     ]
    }
   ],
   "source": [
    "df_user_interactions.info()"
   ]
  },
  {
   "cell_type": "code",
   "execution_count": 7,
   "id": "fae55a53-99f0-41e6-aab7-d737fc9c3221",
   "metadata": {},
   "outputs": [
    {
     "name": "stdout",
     "output_type": "stream",
     "text": [
      "Of the 850 user interactions, there are 210 unique users and 256 unique wine products that were rated.\n"
     ]
    }
   ],
   "source": [
    "print(f'Of the {df_user_interactions.shape[0]} user interactions, there are {df_user_interactions[\"user_id\"].nunique()} unique users and {df_user_interactions[\"product_id\"].nunique()} unique wine products that were rated.')"
   ]
  },
  {
   "cell_type": "code",
   "execution_count": 8,
   "id": "a2387f59-1798-4e11-a81d-1438bcd29e42",
   "metadata": {},
   "outputs": [],
   "source": [
    "# Merge DataFrames with outer join\n",
    "df_all_interactions = pd.merge(df, df_user_interactions, on='product_id', how='outer')"
   ]
  },
  {
   "cell_type": "code",
   "execution_count": 9,
   "id": "2d2d743c-e296-4b5d-a222-29e65e7081e3",
   "metadata": {},
   "outputs": [
    {
     "name": "stdout",
     "output_type": "stream",
     "text": [
      "The original shape of the dataframe df_all_interactions is (1046, 13).\n",
      "The shape of the dataframe df_all_interactions after dropping user_id nulls is (1025, 13).\n"
     ]
    }
   ],
   "source": [
    "print(f'The original shape of the dataframe df_all_interactions is {df_all_interactions.shape}.')\n",
    "\n",
    "# Drop nulls for user_id\n",
    "df_all_interactions.dropna(subset=['user_id'], inplace=True)\n",
    "\n",
    "print(f'The shape of the dataframe df_all_interactions after dropping user_id nulls is {df_all_interactions.shape}.')"
   ]
  },
  {
   "cell_type": "code",
   "execution_count": 10,
   "id": "6a55938c-5cff-4144-a42d-066a209d3811",
   "metadata": {},
   "outputs": [],
   "source": [
    "# Redefine event strength mapping outside of previous function\n",
    "event_strength_mapping = {\n",
    "    'view': 1.0,\n",
    "    'like': 1.5,\n",
    "    'rate': 2.0,\n",
    "    'comment': 3.0,\n",
    "    'follow': 4.0,\n",
    "    'bookmark': 4.5\n",
    "}\n",
    "\n",
    "# Map event types to event strengths\n",
    "df_all_interactions['event_strength'] = df_all_interactions['event_type'].map(event_strength_mapping)\n",
    "\n",
    "# Calculate the weighted sum per user\n",
    "df_all_interactions['user_weighted_sum'] = df_all_interactions.groupby('user_id')['event_strength'].transform('sum')"
   ]
  },
  {
   "cell_type": "code",
   "execution_count": 11,
   "id": "5d824dd0-6d78-49f7-bab1-5d6cad65264a",
   "metadata": {},
   "outputs": [
    {
     "data": {
      "text/html": [
       "<div>\n",
       "<style scoped>\n",
       "    .dataframe tbody tr th:only-of-type {\n",
       "        vertical-align: middle;\n",
       "    }\n",
       "\n",
       "    .dataframe tbody tr th {\n",
       "        vertical-align: top;\n",
       "    }\n",
       "\n",
       "    .dataframe thead th {\n",
       "        text-align: right;\n",
       "    }\n",
       "</style>\n",
       "<table border=\"1\" class=\"dataframe\">\n",
       "  <thead>\n",
       "    <tr style=\"text-align: right;\">\n",
       "      <th></th>\n",
       "      <th>product_id</th>\n",
       "      <th>wine_type</th>\n",
       "      <th>wine_name</th>\n",
       "      <th>wine_origin</th>\n",
       "      <th>rating_avg</th>\n",
       "      <th>rating_num</th>\n",
       "      <th>price_current</th>\n",
       "      <th>price_prediscount</th>\n",
       "      <th>discount_nom</th>\n",
       "      <th>savings_percent</th>\n",
       "      <th>user_id</th>\n",
       "      <th>event_type</th>\n",
       "      <th>event_strength</th>\n",
       "      <th>user_weighted_sum</th>\n",
       "    </tr>\n",
       "  </thead>\n",
       "  <tbody>\n",
       "    <tr>\n",
       "      <th>0</th>\n",
       "      <td>1405250</td>\n",
       "      <td>Malbec</td>\n",
       "      <td>Chateau Du Caillau Cahors 2021</td>\n",
       "      <td>Cahors, Southwest, France</td>\n",
       "      <td>5.0</td>\n",
       "      <td>19</td>\n",
       "      <td>15.0</td>\n",
       "      <td>39</td>\n",
       "      <td>$23.01</td>\n",
       "      <td>59.0</td>\n",
       "      <td>372752</td>\n",
       "      <td>like</td>\n",
       "      <td>1.5</td>\n",
       "      <td>14.0</td>\n",
       "    </tr>\n",
       "    <tr>\n",
       "      <th>1</th>\n",
       "      <td>1405250</td>\n",
       "      <td>Malbec</td>\n",
       "      <td>Chateau Du Caillau Cahors 2021</td>\n",
       "      <td>Cahors, Southwest, France</td>\n",
       "      <td>5.0</td>\n",
       "      <td>19</td>\n",
       "      <td>15.0</td>\n",
       "      <td>39</td>\n",
       "      <td>$23.01</td>\n",
       "      <td>59.0</td>\n",
       "      <td>314317</td>\n",
       "      <td>view</td>\n",
       "      <td>1.0</td>\n",
       "      <td>15.5</td>\n",
       "    </tr>\n",
       "    <tr>\n",
       "      <th>2</th>\n",
       "      <td>1405250</td>\n",
       "      <td>Malbec</td>\n",
       "      <td>Chateau Du Caillau Cahors 2021</td>\n",
       "      <td>Cahors, Southwest, France</td>\n",
       "      <td>5.0</td>\n",
       "      <td>19</td>\n",
       "      <td>15.0</td>\n",
       "      <td>39</td>\n",
       "      <td>$23.01</td>\n",
       "      <td>59.0</td>\n",
       "      <td>798639</td>\n",
       "      <td>view</td>\n",
       "      <td>1.0</td>\n",
       "      <td>13.5</td>\n",
       "    </tr>\n",
       "    <tr>\n",
       "      <th>3</th>\n",
       "      <td>1405250</td>\n",
       "      <td>Malbec</td>\n",
       "      <td>Chateau Du Caillau Cahors 2021</td>\n",
       "      <td>Cahors, Southwest, France</td>\n",
       "      <td>5.0</td>\n",
       "      <td>19</td>\n",
       "      <td>15.0</td>\n",
       "      <td>39</td>\n",
       "      <td>$23.01</td>\n",
       "      <td>59.0</td>\n",
       "      <td>287430</td>\n",
       "      <td>comment</td>\n",
       "      <td>3.0</td>\n",
       "      <td>15.0</td>\n",
       "    </tr>\n",
       "    <tr>\n",
       "      <th>4</th>\n",
       "      <td>1405250</td>\n",
       "      <td>Malbec</td>\n",
       "      <td>Chateau Du Caillau Cahors 2021</td>\n",
       "      <td>Cahors, Southwest, France</td>\n",
       "      <td>5.0</td>\n",
       "      <td>19</td>\n",
       "      <td>15.0</td>\n",
       "      <td>39</td>\n",
       "      <td>$23.01</td>\n",
       "      <td>59.0</td>\n",
       "      <td>439922</td>\n",
       "      <td>like</td>\n",
       "      <td>1.5</td>\n",
       "      <td>13.5</td>\n",
       "    </tr>\n",
       "  </tbody>\n",
       "</table>\n",
       "</div>"
      ],
      "text/plain": [
       "   product_id wine_type                       wine_name  \\\n",
       "0     1405250    Malbec  Chateau Du Caillau Cahors 2021   \n",
       "1     1405250    Malbec  Chateau Du Caillau Cahors 2021   \n",
       "2     1405250    Malbec  Chateau Du Caillau Cahors 2021   \n",
       "3     1405250    Malbec  Chateau Du Caillau Cahors 2021   \n",
       "4     1405250    Malbec  Chateau Du Caillau Cahors 2021   \n",
       "\n",
       "                 wine_origin  rating_avg  rating_num  price_current  \\\n",
       "0  Cahors, Southwest, France         5.0          19           15.0   \n",
       "1  Cahors, Southwest, France         5.0          19           15.0   \n",
       "2  Cahors, Southwest, France         5.0          19           15.0   \n",
       "3  Cahors, Southwest, France         5.0          19           15.0   \n",
       "4  Cahors, Southwest, France         5.0          19           15.0   \n",
       "\n",
       "  price_prediscount discount_nom  savings_percent user_id event_type  \\\n",
       "0                39       $23.01             59.0  372752       like   \n",
       "1                39       $23.01             59.0  314317       view   \n",
       "2                39       $23.01             59.0  798639       view   \n",
       "3                39       $23.01             59.0  287430    comment   \n",
       "4                39       $23.01             59.0  439922       like   \n",
       "\n",
       "   event_strength  user_weighted_sum  \n",
       "0             1.5               14.0  \n",
       "1             1.0               15.5  \n",
       "2             1.0               13.5  \n",
       "3             3.0               15.0  \n",
       "4             1.5               13.5  "
      ]
     },
     "execution_count": 11,
     "metadata": {},
     "output_type": "execute_result"
    }
   ],
   "source": [
    "df_all_interactions.head()"
   ]
  },
  {
   "cell_type": "code",
   "execution_count": 14,
   "id": "d717d827-9e1d-477e-a553-87daf20358c5",
   "metadata": {},
   "outputs": [],
   "source": [
    "# Saving df to .csv\n",
    "df_all_interactions.to_csv('../data/df_all_interactions.csv', index=False)"
   ]
  },
  {
   "cell_type": "code",
   "execution_count": null,
   "id": "5d9772e0-c713-42e9-a1c3-8d5ccc4c1700",
   "metadata": {},
   "outputs": [],
   "source": []
  }
 ],
 "metadata": {
  "kernelspec": {
   "display_name": "Python 3 (ipykernel)",
   "language": "python",
   "name": "python3"
  },
  "language_info": {
   "codemirror_mode": {
    "name": "ipython",
    "version": 3
   },
   "file_extension": ".py",
   "mimetype": "text/x-python",
   "name": "python",
   "nbconvert_exporter": "python",
   "pygments_lexer": "ipython3",
   "version": "3.8.16"
  }
 },
 "nbformat": 4,
 "nbformat_minor": 5
}
