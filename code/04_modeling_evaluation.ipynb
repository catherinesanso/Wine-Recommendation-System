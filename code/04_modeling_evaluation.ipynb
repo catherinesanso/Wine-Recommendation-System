{
 "cells": [
  {
   "cell_type": "code",
   "execution_count": 1,
   "id": "a24e313a-aaaa-46b5-a521-62dfab9b005b",
   "metadata": {},
   "outputs": [],
   "source": [
    "import numpy as np\n",
    "import pandas as pd\n",
    "\n",
    "# For Content-Based Filtering Model\n",
    "from sklearn.feature_extraction.text import TfidfVectorizer\n",
    "from sklearn.metrics.pairwise import linear_kernel\n",
    "\n",
    "# For Collaborative-Based FIltering Model\n",
    "from surprise import Dataset, Reader\n",
    "from surprise import SVD"
   ]
  },
  {
   "cell_type": "markdown",
   "id": "c8cd51bd-a19c-4ba7-bf8d-ab746ff74ef4",
   "metadata": {},
   "source": [
    "---"
   ]
  },
  {
   "cell_type": "code",
   "execution_count": 2,
   "id": "6d6b5700-e770-4dc4-a0ac-6ef3dbcb24c7",
   "metadata": {},
   "outputs": [],
   "source": [
    "# Load DF of all wine products and user interactions:\n",
    "df_all_interactions = pd.read_csv('../data/df_all_interactions.csv')"
   ]
  },
  {
   "cell_type": "markdown",
   "id": "9d977e34-ca35-4ccc-88aa-7acbf4a2ed4d",
   "metadata": {},
   "source": [
    "## Popularity Model:\n",
    "\n",
    "Popularity model - not actually personalized. Recommends to a user the most popular items that the user has not previously consumed. Uses 'wisdom of the crows'."
   ]
  },
  {
   "cell_type": "code",
   "execution_count": 3,
   "id": "84330403-182b-4a30-805a-6f037999fa6b",
   "metadata": {},
   "outputs": [
    {
     "data": {
      "text/html": [
       "<div>\n",
       "<style scoped>\n",
       "    .dataframe tbody tr th:only-of-type {\n",
       "        vertical-align: middle;\n",
       "    }\n",
       "\n",
       "    .dataframe tbody tr th {\n",
       "        vertical-align: top;\n",
       "    }\n",
       "\n",
       "    .dataframe thead th {\n",
       "        text-align: right;\n",
       "    }\n",
       "</style>\n",
       "<table border=\"1\" class=\"dataframe\">\n",
       "  <thead>\n",
       "    <tr style=\"text-align: right;\">\n",
       "      <th></th>\n",
       "      <th>product_id</th>\n",
       "      <th>event_strength</th>\n",
       "    </tr>\n",
       "  </thead>\n",
       "  <tbody>\n",
       "    <tr>\n",
       "      <th>0</th>\n",
       "      <td>1145574</td>\n",
       "      <td>70.0</td>\n",
       "    </tr>\n",
       "    <tr>\n",
       "      <th>1</th>\n",
       "      <td>1405250</td>\n",
       "      <td>55.5</td>\n",
       "    </tr>\n",
       "    <tr>\n",
       "      <th>2</th>\n",
       "      <td>938102</td>\n",
       "      <td>44.0</td>\n",
       "    </tr>\n",
       "    <tr>\n",
       "      <th>3</th>\n",
       "      <td>583739</td>\n",
       "      <td>40.5</td>\n",
       "    </tr>\n",
       "    <tr>\n",
       "      <th>4</th>\n",
       "      <td>1232190</td>\n",
       "      <td>39.0</td>\n",
       "    </tr>\n",
       "    <tr>\n",
       "      <th>5</th>\n",
       "      <td>202370</td>\n",
       "      <td>31.0</td>\n",
       "    </tr>\n",
       "    <tr>\n",
       "      <th>6</th>\n",
       "      <td>1017295</td>\n",
       "      <td>30.0</td>\n",
       "    </tr>\n",
       "    <tr>\n",
       "      <th>7</th>\n",
       "      <td>202479</td>\n",
       "      <td>26.0</td>\n",
       "    </tr>\n",
       "    <tr>\n",
       "      <th>8</th>\n",
       "      <td>583740</td>\n",
       "      <td>22.0</td>\n",
       "    </tr>\n",
       "    <tr>\n",
       "      <th>9</th>\n",
       "      <td>117139</td>\n",
       "      <td>19.0</td>\n",
       "    </tr>\n",
       "  </tbody>\n",
       "</table>\n",
       "</div>"
      ],
      "text/plain": [
       "   product_id  event_strength\n",
       "0     1145574            70.0\n",
       "1     1405250            55.5\n",
       "2      938102            44.0\n",
       "3      583739            40.5\n",
       "4     1232190            39.0\n",
       "5      202370            31.0\n",
       "6     1017295            30.0\n",
       "7      202479            26.0\n",
       "8      583740            22.0\n",
       "9      117139            19.0"
      ]
     },
     "execution_count": 3,
     "metadata": {},
     "output_type": "execute_result"
    }
   ],
   "source": [
    "# Computing the most popular items:\n",
    "df_most_popular = df_all_interactions.groupby('product_id')['event_strength'].sum().sort_values(ascending= False).reset_index()\n",
    "df_most_popular.head(10)"
   ]
  },
  {
   "cell_type": "code",
   "execution_count": 4,
   "id": "b4b7fa37-316a-451b-9d94-2139a8db79ad",
   "metadata": {},
   "outputs": [],
   "source": [
    "def recommend_top_10(user_id, df_interactions, df_most_popular):\n",
    "    # Get the list of products the user has already interacted with\n",
    "    user_interactions = df_interactions[df_interactions['user_id'] == user_id]['product_id'].unique()\n",
    "    \n",
    "    # Filter out products that the user has already interacted with\n",
    "    top_10_recommendations = df_most_popular[~df_most_popular['product_id'].isin(user_interactions)].head(10)\n",
    "    \n",
    "    return top_10_recommendations"
   ]
  },
  {
   "cell_type": "code",
   "execution_count": 5,
   "id": "3b80baec-9810-4e41-a927-07ed62c1cda3",
   "metadata": {},
   "outputs": [
    {
     "name": "stdout",
     "output_type": "stream",
     "text": [
      "   product_id  event_strength\n",
      "0     1145574            70.0\n",
      "1     1405250            55.5\n",
      "2      938102            44.0\n",
      "3      583739            40.5\n",
      "4     1232190            39.0\n",
      "5      202370            31.0\n",
      "6     1017295            30.0\n",
      "7      202479            26.0\n",
      "8      583740            22.0\n",
      "9      117139            19.0\n"
     ]
    }
   ],
   "source": [
    "# Example: Calling the function\n",
    "user_id = '121711'\n",
    "top_10_recommendations = recommend_top_10(user_id, df_all_interactions, df_most_popular)\n",
    "\n",
    "# Print the top 10 recommendations for the user\n",
    "print(top_10_recommendations)"
   ]
  },
  {
   "cell_type": "markdown",
   "id": "76683d4c-af42-4948-9d01-1f1bb3b8b742",
   "metadata": {},
   "source": [
    "## Content-Based Filtering Model:\n",
    "\n",
    "-Write description\n",
    "-Cold-strart\n",
    "-Info retrieval"
   ]
  },
  {
   "cell_type": "code",
   "execution_count": 6,
   "id": "9943be17-1b11-43a8-9f5f-1bc5dd8b3c46",
   "metadata": {},
   "outputs": [],
   "source": [
    "vectorizer = TfidfVectorizer(\n",
    "                    analyzer='word',\n",
    "                    ngram_range=(1, 2),  # considers unigrams and bigrams\n",
    "                    min_df=0.003, # min document frequency for a term to be included in the vocabulary. Ignore terms that appear < 0.3% of the documents.\n",
    "                    max_df=0.5, # max document frequency. Terms that appear in > 50% of the documents will be ignored, too common.\n",
    "                    max_features=5000,\n",
    "                    stop_words='english')"
   ]
  },
  {
   "cell_type": "code",
   "execution_count": 7,
   "id": "1ef7caf1-d0b5-4ecd-96af-047ccdd7b88a",
   "metadata": {},
   "outputs": [
    {
     "data": {
      "text/plain": [
       "<1025x1012 sparse matrix of type '<class 'numpy.float64'>'\n",
       "\twith 14442 stored elements in Compressed Sparse Row format>"
      ]
     },
     "execution_count": 7,
     "metadata": {},
     "output_type": "execute_result"
    }
   ],
   "source": [
    "item_ids = df_all_interactions['product_id'].tolist()\n",
    "tfidf_matrix = vectorizer.fit_transform(df_all_interactions['wine_name'] + df_all_interactions['wine_type'] + df_all_interactions['wine_origin'])\n",
    "tfidf_feature_names = vectorizer.get_feature_names_out()\n",
    "tfidf_matrix"
   ]
  },
  {
   "cell_type": "code",
   "execution_count": 8,
   "id": "fa126c9f-8be4-438c-bafc-e570cbda1cf4",
   "metadata": {},
   "outputs": [],
   "source": [
    "# Step 1: Feature Extraction\n",
    "# Combine textual features into a single column and handle missing values\n",
    "df_all_interactions['wine_features'] = df_all_interactions['wine_name'] + ' ' + df_all_interactions['wine_type'] + ' ' + df_all_interactions['wine_origin']\n",
    "df_all_interactions['wine_features'].fillna('', inplace=True)\n",
    "\n",
    "# TF-IDF Vectorizer\n",
    "tfidf_vectorizer = TfidfVectorizer()\n",
    "wine_tfidf_matrix = tfidf_vectorizer.fit_transform(df_all_interactions['wine_features'])\n",
    "\n",
    "# Step 2: User Profiles\n",
    "def build_user_profile(user_id):\n",
    "    user_interactions = df_all_interactions[df_all_interactions['user_id'] == user_id].copy()\n",
    "    \n",
    "    # Handle missing interaction strengths (NaN) by replacing with zeros\n",
    "    user_interactions['event_strength'].fillna(0, inplace=True)\n",
    "    user_item_strengths = user_interactions['event_strength'].values.reshape(-1, 1)\n",
    "    \n",
    "    user_profile = (user_item_strengths.T @ wine_tfidf_matrix[user_interactions.index].toarray()) / max(user_item_strengths.sum(), 1)\n",
    "    return user_profile\n",
    "\n",
    "# Step 3: Wine Profiles\n",
    "wine_profiles = wine_tfidf_matrix\n",
    "\n",
    "# Step 4: Recommendation Generation\n",
    "def recommend_wines(user_id, num_recommendations=10):\n",
    "    user_profile = build_user_profile(user_id)\n",
    "    \n",
    "    # Calculate cosine similarity between user profile and all wine profiles\n",
    "    cosine_similarities = linear_kernel(user_profile, wine_profiles).flatten()\n",
    "    \n",
    "    # Get indices of top N wines with highest similarity scores\n",
    "    top_indices = cosine_similarities.argsort()[-num_recommendations:][::-1]\n",
    "    \n",
    "    # Get the corresponding wine IDs\n",
    "    recommended_wine_ids = df_all_interactions.iloc[top_indices]['product_id'].tolist()\n",
    "    \n",
    "    return recommended_wine_ids"
   ]
  },
  {
   "cell_type": "code",
   "execution_count": 12,
   "id": "50ae148c-c13b-4785-b93e-ec9564968edb",
   "metadata": {},
   "outputs": [
    {
     "name": "stdout",
     "output_type": "stream",
     "text": [
      "[1230356, 1153834, 583740, 583740, 583740, 583740, 583740, 583740, 583740, 583740]\n"
     ]
    }
   ],
   "source": [
    "# Example: Recommend 10 wines for a user with user_id '121711'\n",
    "user_id_to_recommend = '121711'\n",
    "recommended_wines = recommend_wines(user_id_to_recommend, num_recommendations=10)\n",
    "print(recommended_wines)"
   ]
  },
  {
   "cell_type": "markdown",
   "id": "7427e7f9-e926-422e-981a-d9c324aef5fa",
   "metadata": {},
   "source": [
    "## Collaborative-Based Filtering Model:\n",
    "\n",
    "-Write description"
   ]
  },
  {
   "cell_type": "code",
   "execution_count": 10,
   "id": "d4d1607b-8a65-4b5d-871a-314ea7f3f39c",
   "metadata": {},
   "outputs": [],
   "source": [
    "# pip install scikit-surprise"
   ]
  },
  {
   "cell_type": "code",
   "execution_count": 13,
   "id": "d5d4d06c-fa9a-43ea-aaf9-131d6e0e373e",
   "metadata": {},
   "outputs": [
    {
     "name": "stdout",
     "output_type": "stream",
     "text": [
      "[(878447, 2.1125384100281934), (1220861, 2.1121085617210236), (1393318, 2.09657245713216), (1193738, 2.0700567355690755), (534558, 2.069045645129811), (202370, 2.0618055914075164), (1070730, 2.055649476379271), (1069468, 2.0411214683891346), (931216, 2.0320598864918336), (1232190, 2.0296291966656606)]\n"
     ]
    }
   ],
   "source": [
    "# Step 1: Preprocess the data\n",
    "reader = Reader(rating_scale=(0, 5))  # Define the rating scale\n",
    "data = Dataset.load_from_df(df_all_interactions[['user_id', 'product_id', 'event_strength']], reader)\n",
    "\n",
    "# Step 2: Create a user-item interaction matrix \n",
    "# done implicitly by Surprise\n",
    "\n",
    "# Step 3: Apply collaborative filtering algorithm\n",
    "# Choose a collaborative filtering algorithm (e.g., SVD)\n",
    "algo = SVD()\n",
    "\n",
    "# Train the model on the data\n",
    "trainset = data.build_full_trainset()\n",
    "algo.fit(trainset)\n",
    "\n",
    "# Example: Recommend wines for a specific user (user_id)\n",
    "user_id_to_recommend = '121711'  \n",
    "items_to_ignore = df_all_interactions[df_all_interactions['user_id'] == user_id_to_recommend]['product_id'].tolist()\n",
    "\n",
    "# Get top N recommendations for the user\n",
    "top_n = 10  # Number of recommendations to retrieve\n",
    "user_recommendations = []\n",
    "\n",
    "for product_id in df_all_interactions['product_id'].unique():\n",
    "    if product_id not in items_to_ignore:\n",
    "        predicted_rating = algo.predict(user_id_to_recommend, product_id).est\n",
    "        user_recommendations.append((product_id, predicted_rating))\n",
    "\n",
    "# Sort recommendations by predicted rating (higher is better)\n",
    "user_recommendations.sort(key=lambda x: x[1], reverse=True)\n",
    "\n",
    "# Get the top N recommendations\n",
    "top_recommendations = user_recommendations[:top_n]\n",
    "\n",
    "# Print or use top_recommendations as needed\n",
    "print(top_recommendations)\n"
   ]
  }
 ],
 "metadata": {
  "kernelspec": {
   "display_name": "Python 3 (ipykernel)",
   "language": "python",
   "name": "python3"
  },
  "language_info": {
   "codemirror_mode": {
    "name": "ipython",
    "version": 3
   },
   "file_extension": ".py",
   "mimetype": "text/x-python",
   "name": "python",
   "nbconvert_exporter": "python",
   "pygments_lexer": "ipython3",
   "version": "3.8.16"
  }
 },
 "nbformat": 4,
 "nbformat_minor": 5
}
